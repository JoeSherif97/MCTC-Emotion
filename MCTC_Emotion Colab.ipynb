{
  "metadata": {
    "kernelspec": {
      "name": "python",
      "display_name": "Python (Pyodide)",
      "language": "python"
    },
    "language_info": {
      "codemirror_mode": {
        "name": "python",
        "version": 3
      },
      "file_extension": ".py",
      "mimetype": "text/x-python",
      "name": "python",
      "nbconvert_exporter": "python",
      "pygments_lexer": "ipython3",
      "version": "3.8"
    }
  },
  "nbformat_minor": 5,
  "nbformat": 4,
  "cells": [
    {
      "id": "eeaa8754-b2a0-4971-bd72-0e189c085059",
      "cell_type": "markdown",
      "source": "# Step 0: Importing packages",
      "metadata": {}
    },
    {
      "id": "229afa54-7593-418b-ac90-a47d08dfe935",
      "cell_type": "code",
      "source": "import pandas as pd\nimport numpy as np\nimport tensorflow as tf\nfrom transformers import BertTokenizer, TFBertModel\nimport os\nimport glob\nfrom sklearn.model_selection import train_test_split\nfrom tqdm.auto import tqdm\nimport zipfile\nfrom google.colab import drive",
      "metadata": {
        "trusted": true
      },
      "outputs": [],
      "execution_count": null
    },
    {
      "id": "fe985d1d-356c-4306-9355-7713ddb9849e",
      "cell_type": "markdown",
      "source": "# Step 1: Initialize tokenizer",
      "metadata": {}
    },
    {
      "id": "ff75cc3b-958a-4485-a8f7-483cb829d6a7",
      "cell_type": "code",
      "source": "tokenizer = BertTokenizer.from_pretrained('bert-base-cased')",
      "metadata": {
        "trusted": true
      },
      "outputs": [],
      "execution_count": null
    },
    {
      "id": "4a4382c2-8978-474c-8beb-042c6f7e2eb1",
      "cell_type": "markdown",
      "source": "# Step 2: Load and prepare dataset from zip file and excel sheet",
      "metadata": {}
    },
    {
      "id": "4ae346db-1743-426b-a97a-f82dc3631f91",
      "cell_type": "markdown",
      "source": "## From Zip File",
      "metadata": {}
    },
    {
      "id": "8c558128-2a29-481f-be60-fc26d7642982",
      "cell_type": "code",
      "source": "def load_emotion_dataset(zip_path, extract_path='/content/drive/MyDrive/EmotionClassText/'):\n    # Check if extraction folder already exists\n    if not os.path.exists(extract_path):\n        print(f\"Extracting zip file to {extract_path}...\")\n        with zipfile.ZipFile(zip_path, 'r') as zip_ref:\n            zip_ref.extractall(extract_path)\n    else:\n        print(f\"Extraction folder {extract_path} already exists, skipping extraction.\")\n\n    emotions = ['surprise', 'sad', 'neutral', 'happy', 'fear', 'disgust', 'anger']\n    data = []\n\n    for emotion in emotions:\n        folder_path = os.path.join(extract_path, emotion)\n        if not os.path.exists(folder_path):\n            print(f\"Warning: Folder for {emotion} not found in extracted zip\")\n            continue\n        files = glob.glob(os.path.join(folder_path, '*.txt'))\n        for file in files:\n            with open(file, 'r', encoding='utf-8') as f:\n                text = f.read().strip()\n                data.append({'Phrase': text, 'Emotion': emotion})\n\n    df = pd.DataFrame(data)\n    # Map emotions to numerical labels\n    emotion_to_idx = {emotion: idx for idx, emotion in enumerate(emotions)}\n    df['Label'] = df['Emotion'].map(emotion_to_idx)\n    return df, emotions",
      "metadata": {
        "trusted": true
      },
      "outputs": [],
      "execution_count": null
    },
    {
      "id": "2cf6dd6e-9474-4786-87cd-8f5ce6f13e78",
      "cell_type": "markdown",
      "source": "## From Excel Sheet",
      "metadata": {}
    },
    {
      "id": "af04dc81-1f15-4c4a-9042-cdac76b7d1d6",
      "cell_type": "code",
      "source": "def load_emotion_dataset(excel_path):\n    # Read Excel file\n    if not os.path.exists(excel_path):\n        raise FileNotFoundError(f\"Excel file not found at {excel_path}\")\n\n    df = pd.read_excel(excel_path)\n\n    # Verify required columns\n    if 'Phrase' not in df.columns or 'Emotion' not in df.columns:\n        raise ValueError(\"Excel file must contain 'Phrase' and 'Emotion' columns\")\n\n    # Define emotions in the specified order\n    expected_emotions = ['surprise', 'sad', 'neutral', 'happy', 'fear', 'disgust', 'anger']\n\n    # Get unique emotions from the dataset\n    unique_emotions = df['Emotion'].unique()\n    # Validate emotions\n    if not all(emotion in expected_emotions for emotion in unique_emotions):\n        print(f\"Warning: Found unexpected emotions in dataset: {set(unique_emotions) - set(expected_emotions)}\")\n\n    # Use expected emotions as classes to maintain consistent order\n    classes = expected_emotions\n\n    # Map emotions to numerical labels\n    emotion_to_idx = {emotion: idx for idx, emotion in enumerate(classes)}\n    df['Label'] = df['Emotion'].map(emotion_to_idx)\n\n    # Drop any rows with missing labels (if emotion not in expected_emotions)\n    df = df.dropna(subset=['Label'])\n\n    return df, classes",
      "metadata": {
        "trusted": true
      },
      "outputs": [],
      "execution_count": null
    },
    {
      "id": "d7d7c289-ed1d-4dfb-8f02-2a2f81be8bfb",
      "cell_type": "markdown",
      "source": "# Step 3: Mount Google Drive and load dataset",
      "metadata": {}
    },
    {
      "id": "053eaf36-b0f9-4a41-9470-bc1e1d68c657",
      "cell_type": "markdown",
      "source": "## Mounting Google Drive",
      "metadata": {}
    },
    {
      "id": "6488c799-6aaa-4e2b-9bb2-56fe666c9be8",
      "cell_type": "code",
      "source": "from google.colab import drive\ndrive.mount('/content/drive')",
      "metadata": {
        "trusted": true
      },
      "outputs": [],
      "execution_count": null
    },
    {
      "id": "03b02682-17eb-4640-8963-eb1c920cfd7d",
      "cell_type": "markdown",
      "source": "## Loading Data from Google Drive",
      "metadata": {}
    },
    {
      "id": "fbd35307-8953-4602-910f-46d18120b2e4",
      "cell_type": "markdown",
      "source": "### From Zip File",
      "metadata": {}
    },
    {
      "id": "1deb1a7f-9fc5-48c4-ab55-829ad700ba0d",
      "cell_type": "code",
      "source": "zip_path = '/content/drive/MyDrive/EmotionClassText.zip'\ndf, classes = load_emotion_dataset(zip_path)",
      "metadata": {
        "trusted": true
      },
      "outputs": [],
      "execution_count": null
    },
    {
      "id": "2b91b710-5995-4172-864f-9aee215c571e",
      "cell_type": "markdown",
      "source": "### From Excel Sheet",
      "metadata": {}
    },
    {
      "id": "6c9b0183-f102-4a41-896b-d3630bf613ef",
      "cell_type": "code",
      "source": "excel_path = '/content/drive/MyDrive/EmotionText.xlsx' \ndf, classes = load_emotion_dataset(excel_path)",
      "metadata": {
        "trusted": true
      },
      "outputs": [],
      "execution_count": null
    },
    {
      "id": "d92a1a7b-dc0f-4af8-bdaa-02871d3dd2a7",
      "cell_type": "markdown",
      "source": "## Ensuring Data is loaded and checking dataset",
      "metadata": {}
    },
    {
      "id": "4f083dc6-5f11-4355-bdb1-a6e1409e493e",
      "cell_type": "code",
      "source": "df.info()\nprint(df.head())\ndf['Emotion'].value_counts()\nprint(df)",
      "metadata": {
        "trusted": true
      },
      "outputs": [],
      "execution_count": null
    },
    {
      "id": "8d742dd5-0ec3-4813-8abc-69359d5375c5",
      "cell_type": "raw",
      "source": "<class 'pandas.core.frame.DataFrame'>\nRangeIndex: 13048 entries, 0 to 13047\nData columns (total 3 columns):\n #   Column   Non-Null Count  Dtype \n---  ------   --------------  -------\n 0   Phrase   13046 non-null  object\n 1   Emotion  13048 non-null  object\n 2   Label    13048 non-null  int64 \ndtypes: int64(1), object(2)\nmemory usage: 305.9+ KB\n------------------------------------------------------------------------\ncount\nEmotion\t\nneutral\t    2899\nhappy\t    1813\nanger\t    1786\ndisgust\t    1722\nsad\t        1695\nfear\t    1648\nsurprise\t1485\n\ndtype: int64\n-----------------------------------------------------------------------\n                                                  Phrase   Emotion  Label\n0                                     Okay, who are you?  surprise      0\n1                                       Oh my God! Joey!  surprise      0\n2                         Why?! Why can’t she marry me?!  surprise      0\n3                                             Oh my God.  surprise      0\n4      Now I can’t believe it! What? Rachel’s pregnan...  surprise      0\n...                                                  ...       ...    ...\n13043  i am feeling much less like a grumpy bear now ...     anger      6\n13044          i very selfishly feel wronged in some way     anger      6\n13045  i feel like i can think circles around half of...     anger      6\n13046           i started to feel resentful and hopeless     anger      6\n13047  i feel insulted that youd prefer a meeting wit...     anger      6\n\n[13048 rows x 3 columns]",
      "metadata": {}
    },
    {
      "id": "df313120-10b3-4735-a564-299868a8e2da",
      "cell_type": "markdown",
      "source": "# Step 4: Data Preprocessing and tokenization functions",
      "metadata": {}
    },
    {
      "id": "64004280-8669-4f48-8e21-724c400f9506",
      "cell_type": "markdown",
      "source": "## Preparing Data",
      "metadata": {}
    },
    {
      "id": "b07600de-c367-40c3-9ca4-aff754edde0d",
      "cell_type": "code",
      "source": "def prepare_data(text, tokenizer):\n    token = tokenizer.encode_plus(\n        text,\n        max_length=256,\n        truncation=True,\n        padding='max_length',\n        add_special_tokens=True,\n        return_tensors='tf'\n    )\n    return {\n        'input_ids': tf.cast(token.input_ids, tf.int32),\n        'attention_mask': tf.cast(token.attention_mask, tf.int32)\n    }",
      "metadata": {
        "trusted": true
      },
      "outputs": [],
      "execution_count": null
    },
    {
      "id": "e4b77f57-beee-4287-a4b1-76e5f2dee168",
      "cell_type": "markdown",
      "source": "## Generating Training Data",
      "metadata": {}
    },
    {
      "id": "3c79a6ed-4dd5-4db3-b179-44046c63c230",
      "cell_type": "code",
      "source": "def generate_training_data(df, tokenizer):\n    input_ids = np.zeros((len(df), 256), dtype=np.int32)\n    attn_masks = np.zeros((len(df), 256), dtype=np.int32)\n\n    for i, text in tqdm(enumerate(df['Phrase']), total=len(df)):\n        tokenized = prepare_data(text, tokenizer)\n        input_ids[i, :] = tokenized['input_ids']\n        attn_masks[i, :] = tokenized['attention_mask']\n\n    labels = np.zeros((len(df), 7), dtype=np.int32)\n    labels[np.arange(len(df)), df['Label'].values] = 1\n    return input_ids, attn_masks, labels",
      "metadata": {
        "trusted": true
      },
      "outputs": [],
      "execution_count": null
    },
    {
      "id": "5c6395b7-5ca1-4da6-8e11-b36ff5937646",
      "cell_type": "markdown",
      "source": "# Step 5: Processing Data",
      "metadata": {}
    },
    {
      "id": "7a185028-f35e-4e51-8783-53870e17ff00",
      "cell_type": "code",
      "source": "input_ids, attn_masks, labels = generate_training_data(df, tokenizer)",
      "metadata": {
        "trusted": true
      },
      "outputs": [],
      "execution_count": null
    },
    {
      "id": "0802430a-28cc-4454-8e41-3958a4be6ad2",
      "cell_type": "markdown",
      "source": "# Step 6: Creating TensorFlow dataset for efficient training",
      "metadata": {}
    },
    {
      "id": "9ccfc1c0-22ad-4770-bfcc-20c698118878",
      "cell_type": "code",
      "source": "dataset = tf.data.Dataset.from_tensor_slices((input_ids, attn_masks, labels))\ndataset = dataset.map(lambda x, y, z: ({'input_ids': x, 'attention_mask': y}, z))\ndataset = dataset.shuffle(10000).batch(16, drop_remainder=True)",
      "metadata": {
        "trusted": true
      },
      "outputs": [],
      "execution_count": null
    },
    {
      "id": "1672d977-bbf0-4559-aeaf-18c38763fdd2",
      "cell_type": "markdown",
      "source": "# Step 7: Split data into training and validation sets",
      "metadata": {}
    },
    {
      "id": "04dfc9fa-bfae-449a-bf7d-8610bafcd3ee",
      "cell_type": "code",
      "source": "p = 0.8\ntrain_size = int((len(df)//16) * p)\ntrain_dataset = dataset.take(train_size)\nval_dataset = dataset.skip(train_size)",
      "metadata": {
        "trusted": true
      },
      "outputs": [],
      "execution_count": null
    },
    {
      "id": "af317834-4349-4ad6-af2a-4f81a3710a10",
      "cell_type": "markdown",
      "source": "# Step 8: Build the neural network model",
      "metadata": {}
    },
    {
      "id": "571590d4-0e65-4cfc-928a-1bcb681bfa90",
      "cell_type": "code",
      "source": "def build_model():\n    input_ids = tf.keras.layers.Input(shape=(256,), name='input_ids', dtype='int32')\n    attn_masks = tf.keras.layers.Input(shape=(256,), name='attention_mask', dtype='int32')\n\n    bert = TFBertModel.from_pretrained('bert-base-cased')\n    bert_embds = bert(input_ids, attention_mask=attn_masks)[1]\n    intermediate = tf.keras.layers.Dense(512, activation='relu', name='intermediate')(bert_embds)\n    output = tf.keras.layers.Dense(7, activation='softmax', name='output')(intermediate)\n\n    model = tf.keras.Model(inputs=[input_ids, attn_masks], outputs=output)\n    model.compile(\n        optimizer=tf.keras.optimizers.Adam(learning_rate=1e-5),\n        loss=tf.keras.losses.CategoricalCrossentropy(),\n        metrics=[tf.keras.metrics.CategoricalAccuracy('accuracy')]\n    )\n    return model",
      "metadata": {
        "trusted": true
      },
      "outputs": [],
      "execution_count": null
    },
    {
      "id": "aab95d1e-887e-461d-8917-893c81da2a35",
      "cell_type": "markdown",
      "source": "# Step 9: Create and train model",
      "metadata": {}
    },
    {
      "id": "5f253a68-537e-4e25-a2cd-6c857c1ac4bd",
      "cell_type": "markdown",
      "source": "## Building Model",
      "metadata": {}
    },
    {
      "id": "694a7b14-a8d7-452f-b028-561aee668bef",
      "cell_type": "code",
      "source": "model = build_model()",
      "metadata": {
        "trusted": true
      },
      "outputs": [],
      "execution_count": null
    },
    {
      "id": "a0084c85-23c5-4acd-82da-412fe0bcf395",
      "cell_type": "markdown",
      "source": "## Training Model",
      "metadata": {}
    },
    {
      "id": "8d993005-ec39-4571-a3a5-6936e89a55cd",
      "cell_type": "code",
      "source": "history = model.fit(\n    train_dataset,\n    validation_data=val_dataset,\n    epochs=5\n)",
      "metadata": {
        "trusted": true
      },
      "outputs": [],
      "execution_count": null
    },
    {
      "id": "9a58d979-175c-4ab9-938b-13833630ae77",
      "cell_type": "raw",
      "source": "Epoch 1/5\n652/652 [==============================] - 586s 843ms/step - loss: 1.1894 - accuracy: 0.5792 - val_loss: 0.8675 - val_accuracy: 0.7040\nEpoch 2/5\n652/652 [==============================] - 549s 842ms/step - loss: 0.8504 - accuracy: 0.7102 - val_loss: 0.6572 - val_accuracy: 0.7899\nEpoch 3/5\n652/652 [==============================] - 549s 842ms/step - loss: 0.7052 - accuracy: 0.7670 - val_loss: 0.5334 - val_accuracy: 0.8259\nEpoch 4/5\n652/652 [==============================] - 550s 843ms/step - loss: 0.5891 - accuracy: 0.8095 - val_loss: 0.3778 - val_accuracy: 0.8892\nEpoch 5/5\n652/652 [==============================] - 549s 842ms/step - loss: 0.4545 - accuracy: 0.8499 - val_loss: 0.2699 - val_accuracy: 0.9233",
      "metadata": {}
    },
    {
      "id": "7f114f82-21c4-47b1-98fd-55836735b604",
      "cell_type": "markdown",
      "source": "# Step 10: Save the trained model",
      "metadata": {}
    },
    {
      "id": "1ad75cb4-0ba0-4819-8843-be3174e82aee",
      "cell_type": "markdown",
      "source": "## Colab Model Saving",
      "metadata": {}
    },
    {
      "id": "fb571e11-7276-427a-af24-e58c2a881fa8",
      "cell_type": "code",
      "source": "model.save('MCTC_Emotion.keras')",
      "metadata": {
        "trusted": true
      },
      "outputs": [],
      "execution_count": null
    },
    {
      "id": "36494557-7d51-4a22-a027-bfe2db6bdfed",
      "cell_type": "markdown",
      "source": "## Google Drive Model Saving",
      "metadata": {}
    },
    {
      "id": "d7129c30-b6f3-4d10-a4aa-1d42bac8d135",
      "cell_type": "code",
      "source": "model.save(\"/content/drive/MyDrive/MCTC_Emotion5epoch.h5\")",
      "metadata": {
        "trusted": true
      },
      "outputs": [],
      "execution_count": null
    },
    {
      "id": "79db3eb4-13f6-4c03-95e9-1ce24897023c",
      "cell_type": "markdown",
      "source": "# Step 11: Create Prediction function",
      "metadata": {}
    },
    {
      "id": "4033c9d2-d8e9-488e-89f0-b941ab0e79db",
      "cell_type": "code",
      "source": "def predict_emotion(text, model, tokenizer):\n    inputs = prepare_data(text, tokenizer)\n    probs = model.predict([inputs['input_ids'], inputs['attention_mask']])[0]\n    return classes[np.argmax(probs)], probs",
      "metadata": {
        "trusted": true
      },
      "outputs": [],
      "execution_count": null
    },
    {
      "id": "7ebd4139-7cab-4421-bd9a-692a1dfa4794",
      "cell_type": "markdown",
      "source": "# Step 12: Test the model with example phrases",
      "metadata": {}
    },
    {
      "id": "ff99c363-dcb1-4abc-8ee2-3dd235265983",
      "cell_type": "markdown",
      "source": "## Testing Material",
      "metadata": {}
    },
    {
      "id": "954d371c-b5de-43e2-a4d2-4e37301abf8d",
      "cell_type": "code",
      "source": "test_phrases = [\n    #\"I love this!\",\n    #\"This is terrible\",\n    #\"It's okay, I guess\",\n    #\"I really Hate this\",\n    #\"Wow I didn't see that coming\",\n    #\"This make me wanna vomit\",\n    #\"My body got colder hearing about that\",\n    #\"happy\",\n    #\"sad\",\n    #\"angry\",\n    #\"disgust\",\n    #\"surprise\",\n    #\"fear\",\n    #\"neutral\",\n    \"Oh my God!!\",#surprise\n    \"I didn’t make it!\",#sad\n    \"You know how much I love listening to your music, you know,    but...\",#neutral\n    \"Alright, you did it! Do we have any fruit?\",#happy\n    \"i feel insecure and useless\",#fear\n    \"I reached into the leper colony and felt a fungal decomposing rat cling to my hair, amid the hum of bloated mosquitoes.\",#disgust\n    \"Did it ever occur to you that I might just be that stupid?\"#angry\n]",
      "metadata": {
        "trusted": true
      },
      "outputs": [],
      "execution_count": null
    },
    {
      "id": "ca6d0893-f4af-41c4-b329-77522427e0ca",
      "cell_type": "markdown",
      "source": "## Testing Setup & Executing",
      "metadata": {}
    },
    {
      "id": "122de63f-441c-46e2-8caa-de777cd62db2",
      "cell_type": "code",
      "source": "print(classes)\nfor phrase in test_phrases:\n    pred_class, probs = predict_emotion(phrase, model, tokenizer)\n    print(f\"\\n'{phrase}':\")\n    print(f\"Predicted: {pred_class}\")\n    print(f\"Probabilities: {[f'{p:.4f}' for p in probs]}\")",
      "metadata": {
        "trusted": true
      },
      "outputs": [],
      "execution_count": null
    },
    {
      "id": "2cccd4af-501b-404d-9a0a-0258eae63048",
      "cell_type": "raw",
      "source": "['surprise', 'sad', 'neutral', 'happy', 'fear', 'disgust', 'anger']\n1/1 [==============================] - 4s 4s/step\n\n'Oh my God!!':\nPredicted: surprise\nProbabilities: ['0.9815', '0.0028', '0.0017', '0.0022', '0.0007', '0.0028', '0.0083']\n1/1 [==============================] - 0s 66ms/step\n\n'I didn’t make it!':\nPredicted: sad\nProbabilities: ['0.1760', '0.3271', '0.0557', '0.1690', '0.0637', '0.0176', '0.1909']\n1/1 [==============================] - 0s 67ms/step\n\n'You know how much I love listening to your music, you know,    but...':\nPredicted: happy\nProbabilities: ['0.0014', '0.0215', '0.4637', '0.4821', '0.0091', '0.0031', '0.0192']\n1/1 [==============================] - 0s 68ms/step\n\n'Alright, you did it! Do we have any fruit?':\nPredicted: happy\nProbabilities: ['0.0170', '0.0013', '0.0048', '0.9387', '0.0017', '0.0010', '0.0355']\n1/1 [==============================] - 0s 68ms/step\n\n'i feel insecure and useless':\nPredicted: fear\nProbabilities: ['0.0006', '0.0008', '0.0001', '0.0000', '0.9972', '0.0001', '0.0011']\n1/1 [==============================] - 0s 76ms/step\n\n'I reached into the leper colony and felt a fungal decomposing rat cling to my hair, amid the hum of bloated mosquitoes.':\nPredicted: disgust\nProbabilities: ['0.0000', '0.0002', '0.0002', '0.0001', '0.0001', '0.9992', '0.0001']\n1/1 [==============================] - 0s 66ms/step\n\n'Did it ever occur to you that I might just be that stupid?':\nPredicted: anger\nProbabilities: ['0.0130', '0.0525', '0.0061', '0.0282', '0.0044', '0.0117', '0.8841']",
      "metadata": {}
    },
    {
      "id": "a1b4badd-03cf-4e69-b714-0e23cf6ba594",
      "cell_type": "markdown",
      "source": "# Step 13: Vizualize training process",
      "metadata": {}
    },
    {
      "id": "b3c1487c-8f85-47e5-8211-f48bb9b98833",
      "cell_type": "code",
      "source": "import matplotlib.pyplot as plt\nplt.plot(history.history['accuracy'], label='Train Accuracy')\nplt.plot(history.history['val_accuracy'], label='Val Accuracy')\nplt.xlabel(\"Epochs\")\nplt.ylabel(\"Accuracy\")\nplt.title(\"Accuracy Curve\")\nplt.legend()\nplt.grid(True)\nplt.show()\n\nplt.plot(history.history['loss'], label='Loss')\nplt.plot(history.history['val_loss'], label='Val Loss')\nplt.xlabel(\"Epochs\")\nplt.ylabel(\"Loss\")\nplt.title(\"Loss Curve\")\nplt.legend()\nplt.grid(True)\nplt.show()",
      "metadata": {
        "trusted": true
      },
      "outputs": [],
      "execution_count": null
    }
  ]
}
